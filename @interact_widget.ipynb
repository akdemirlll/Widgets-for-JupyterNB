{
 "cells": [
  {
   "cell_type": "markdown",
   "metadata": {},
   "source": [
    "# @interact widget"
   ]
  },
  {
   "cell_type": "code",
   "execution_count": 1,
   "metadata": {},
   "outputs": [],
   "source": [
    "import numpy as np\n",
    "import matplotlib.pyplot as plt\n",
    "from ipywidgets import interact\n",
    "import pandas as pd"
   ]
  },
  {
   "cell_type": "code",
   "execution_count": 2,
   "metadata": {},
   "outputs": [],
   "source": [
    "X = np.random.uniform(-5, 5, (15, 1))\n",
    "e = np.random.randn(15, 1)\n",
    "y = 3 + X + 2*X**2 + 0.03*X**3 - 0.01*X**4 + e"
   ]
  },
  {
   "cell_type": "code",
   "execution_count": 3,
   "metadata": {},
   "outputs": [],
   "source": [
    "from sklearn.linear_model import LinearRegression, Ridge, Lasso\n",
    "from sklearn.preprocessing import PolynomialFeatures\n",
    "from sklearn.metrics import mean_squared_error"
   ]
  },
  {
   "cell_type": "code",
   "execution_count": 4,
   "metadata": {},
   "outputs": [
    {
     "data": {
      "application/vnd.jupyter.widget-view+json": {
       "model_id": "63f30ee1275447e9ab5ccb91d6cd0713",
       "version_major": 2,
       "version_minor": 0
      },
      "text/plain": [
       "interactive(children=(Dropdown(description='dropdown1', options=('Feature A', 'Feature B'), value='Feature A')…"
      ]
     },
     "metadata": {},
     "output_type": "display_data"
    }
   ],
   "source": [
    "# interact: Easy exploration in jupyter notebooks\n",
    "@interact\n",
    "def dropdown(dropdown1=['Feature A', 'Feature B'], dropdown2=['Feature C', 'Feature D']):\n",
    "    print (dropdown1, \"selected from dropdown 1\")\n",
    "    print (dropdown2, \"selected from dropdown 2\")"
   ]
  },
  {
   "cell_type": "code",
   "execution_count": 5,
   "metadata": {},
   "outputs": [
    {
     "data": {
      "application/vnd.jupyter.widget-view+json": {
       "model_id": "3c654f765f394cc68885d76d13967b11",
       "version_major": 2,
       "version_minor": 0
      },
      "text/plain": [
       "interactive(children=(IntSlider(value=4, description='sliding1', max=9), FloatSlider(value=1.0, description='s…"
      ]
     },
     "metadata": {},
     "output_type": "display_data"
    }
   ],
   "source": [
    "# slider\n",
    "@interact\n",
    "def slider(sliding1=(0,9,1), sliding2=(0.1,2.0,0.1)):\n",
    "    print('sliding1 - sliding2 =', sliding1 - sliding2)"
   ]
  },
  {
   "cell_type": "code",
   "execution_count": 6,
   "metadata": {},
   "outputs": [
    {
     "data": {
      "application/vnd.jupyter.widget-view+json": {
       "model_id": "3c1a461373d74fd38a209b804b4810c0",
       "version_major": 2,
       "version_minor": 0
      },
      "text/plain": [
       "interactive(children=(IntSlider(value=6, description='d', max=11, min=1), Output()), _dom_classes=('widget-int…"
      ]
     },
     "metadata": {},
     "output_type": "display_data"
    }
   ],
   "source": [
    "# Polynomial Regression: Polynomial Degree and Overfitting\n",
    "@interact\n",
    "def testing(d=(1, 11, 1)):\n",
    "    poly = PolynomialFeatures(d) \n",
    "    Xp = poly.fit_transform(X) \n",
    "    model = LinearRegression().fit(Xp, y)\n",
    "    xrange = np.linspace(X.min(), X.max(), 1000).reshape(-1, 1) \n",
    "    print('Train error:', mean_squared_error(y, model.predict(Xp)))\n",
    "    plt.scatter(X, y, label='actual')\n",
    "    plt.plot(xrange, model.predict(poly.transform(xrange)), color='red', label='fitted')\n",
    "    plt.legend()\n",
    "    plt.xlim(-5, 5)\n",
    "    plt.ylim(0, 120)"
   ]
  }
 ],
 "metadata": {
  "kernelspec": {
   "display_name": "Python 3",
   "language": "python",
   "name": "python3"
  },
  "language_info": {
   "codemirror_mode": {
    "name": "ipython",
    "version": 3
   },
   "file_extension": ".py",
   "mimetype": "text/x-python",
   "name": "python",
   "nbconvert_exporter": "python",
   "pygments_lexer": "ipython3",
   "version": "3.7.4"
  }
 },
 "nbformat": 4,
 "nbformat_minor": 4
}
